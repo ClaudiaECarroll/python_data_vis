{
  "nbformat": 4,
  "nbformat_minor": 0,
  "metadata": {
    "colab": {
      "provenance": []
    },
    "kernelspec": {
      "name": "python3",
      "display_name": "Python 3"
    },
    "language_info": {
      "name": "python"
    }
  },
  "cells": [
    {
      "cell_type": "markdown",
      "source": [
        "## Customization with Pandas\n"
      ],
      "metadata": {
        "id": "CGMnDkQArqDa"
      }
    },
    {
      "cell_type": "code",
      "source": [
        "import pandas as pd"
      ],
      "metadata": {
        "id": "H2IZ0HsN7Nce"
      },
      "execution_count": null,
      "outputs": []
    },
    {
      "cell_type": "code",
      "source": [
        "df_SAFI = pd.read_csv('/content/drive/MyDrive/TRIADS_workshops/workshop_data/SAFI.csv')"
      ],
      "metadata": {
        "id": "uFCC0jgi7NTJ"
      },
      "execution_count": null,
      "outputs": []
    },
    {
      "cell_type": "markdown",
      "source": [
        "# Basic Customization with Pandas"
      ],
      "metadata": {
        "id": "3f1aWLm_99J-"
      }
    },
    {
      "cell_type": "code",
      "source": [
        "# Reloading our basic scatterplot\n",
        "\n",
        "df_SAFI.plot.scatter(x='years_liv', y='years_farm')"
      ],
      "metadata": {
        "id": "Q7y8itBg_rvH"
      },
      "execution_count": null,
      "outputs": []
    },
    {
      "cell_type": "code",
      "source": [
        "# Adjusting the x and y axis limits from the default\n",
        "\n",
        "df_SAFI.plot.scatter(x='years_liv', y='years_farm', xlim=(0,120), ylim=(0,80))"
      ],
      "metadata": {
        "id": "xJ6kZBR__rnB"
      },
      "execution_count": null,
      "outputs": []
    },
    {
      "cell_type": "code",
      "source": [
        "# Changing the  size of the figure\n",
        "\n",
        "df_SAFI.plot.scatter(x='years_liv', y='years_farm', figsize=(10,8))"
      ],
      "metadata": {
        "id": "DGQ1sm8__rXU"
      },
      "execution_count": null,
      "outputs": []
    },
    {
      "cell_type": "code",
      "source": [
        "# Inserting a figure title, and x and y axis labels\n",
        "\n",
        "df_SAFI.plot.scatter(x='years_liv', y='years_farm', title=\"My Scatterplot!\", xlabel=\"Years: Lived\", ylabel=\"Years: Farmed\")"
      ],
      "metadata": {
        "id": "fdDQ2fZ4_rPG"
      },
      "execution_count": null,
      "outputs": []
    },
    {
      "cell_type": "code",
      "source": [
        "# Changing the color and size of the dots\n",
        "\n",
        "df_SAFI.plot.scatter(x='years_liv', y='years_farm', color='teal', s=80)"
      ],
      "metadata": {
        "id": "yZaHgs14_rez"
      },
      "execution_count": null,
      "outputs": []
    },
    {
      "cell_type": "code",
      "source": [
        "# Combining all of the above!\n",
        "\n",
        "df_SAFI.plot.scatter(x='years_liv', y='years_farm',\n",
        "                     xlim=(0,120), ylim=(0,80),\n",
        "                     color='teal', s=80,\n",
        "                     figsize=(10,8),\n",
        "                     title=\"My Scatterplot!\", xlabel=\"Years: Lived\", ylabel=\"Years: Farmed\")\n"
      ],
      "metadata": {
        "id": "WtlDuPRU-AWX"
      },
      "execution_count": null,
      "outputs": []
    },
    {
      "cell_type": "markdown",
      "source": [
        "# Exercise\n",
        "\n",
        "Using the documentation for plotting in pandas:\n",
        "\n",
        "https://pandas.pydata.org/docs/reference/api/pandas.DataFrame.plot.html#\n",
        "\n",
        "1. Make a line plot that graphs the change in GDP of France and Germany (using your gdp_europe.csv), where the France line is in Pink and the German line is in Purple.\n",
        "\n",
        "2.  Create a horizontal bar chart of the Spain's GDP for each year in the dataset. Make the bars orange, include gridlines to make the graph easier to read, insert the title \"Spain GDP\" and label the x axis \"US Dollars\" (Bonus part: can you make the bars display from lowest to highest GDP?)\n"
      ],
      "metadata": {
        "id": "7t5qE9NeA3Z8"
      }
    },
    {
      "cell_type": "code",
      "source": [
        "# Load in the dataframe\n",
        "\n",
        "df_europe = pd.read_csv('/content/drive/MyDrive/TRIADS_workshops/workshop_data/gdp_europe.csv', index_col=0)\n",
        "\n",
        "# Part 1: France and Germany Graph\n",
        "\n",
        "df_fr_gr = df_europe.loc[[\"France\", \"Germany\"]]\n",
        "\n",
        "df_fr_gr.T.plot(kind=\"line\", color={\"France\": \"pink\", \"Germany\": \"purple\"})"
      ],
      "metadata": {
        "id": "Os_qp9CXIiP-"
      },
      "execution_count": null,
      "outputs": []
    },
    {
      "cell_type": "code",
      "source": [
        "# Part 2: Spain Graph\n",
        "\n",
        "df_europe.loc[\"Spain\"].plot(kind='barh', color=\"orange\", grid=True, title=\"Spain GDP\", xlabel=\"US Dollars\")"
      ],
      "metadata": {
        "id": "fjMjMTfEOCzR"
      },
      "execution_count": null,
      "outputs": []
    },
    {
      "cell_type": "code",
      "source": [
        "# Bonus: Spain Graph in reverse order\n",
        "\n",
        "df_sorted = df_europe.sort_values(by=\"Spain\", ascending=False, axis=1)\n",
        "\n",
        "df_sorted.loc[\"Spain\"].plot(kind='barh', color=\"orange\", grid=True, title=\"Spain GDP\", xlabel=\"US Dollars\")\n",
        "\n"
      ],
      "metadata": {
        "id": "dwKQMXeiLqQy"
      },
      "execution_count": null,
      "outputs": []
    },
    {
      "cell_type": "markdown",
      "metadata": {
        "id": "b5aa5b4a"
      },
      "source": [
        "## Further Customization with Matplotlib"
      ]
    },
    {
      "cell_type": "code",
      "source": [
        "import pandas as pd\n",
        "import matplotlib.pyplot as plt"
      ],
      "metadata": {
        "id": "odX9e5sQA1e1"
      },
      "execution_count": null,
      "outputs": []
    },
    {
      "cell_type": "code",
      "source": [
        "# Creating a basic scatterplot using pandas, and customizing it using matplotlib\n",
        "\n",
        "df_SAFI.plot.scatter(x = 'years_liv', y = 'years_farm')\n",
        "\n",
        "plt.title('Years Lived vs Years Farming')\n",
        "plt.xlabel('Years Lived')\n",
        "plt.ylabel('Years Farming')"
      ],
      "metadata": {
        "id": "uI8hC6b38SNK"
      },
      "execution_count": null,
      "outputs": []
    },
    {
      "cell_type": "code",
      "source": [
        "# Creating a basic scatterplot using pandas, and customizing it using matplotlib\n",
        "\n",
        "df_SAFI.plot.scatter(x = 'years_liv', y = 'years_farm', color='pink', s=40, figsize=(14,10))\n",
        "\n",
        "plt.title('Years Lived vs Yearsfarming')\n",
        "plt.xlabel('Years Lived')\n",
        "plt.ylabel('Years Farming')\n",
        "\n"
      ],
      "metadata": {
        "id": "ghIp4Lv_7-aI"
      },
      "execution_count": null,
      "outputs": []
    },
    {
      "cell_type": "code",
      "execution_count": null,
      "metadata": {
        "id": "3a535612"
      },
      "outputs": [],
      "source": [
        "# Creating a basic boxplot with pandas\n",
        "\n",
        "df_SAFI.boxplot(column = 'buildings_in_compound', by = 'village', figsize = (5,5))"
      ]
    },
    {
      "cell_type": "code",
      "execution_count": null,
      "metadata": {
        "id": "7443b202"
      },
      "outputs": [],
      "source": [
        "# Creating a boxplot with pandas, and customizing it with matplotlib\n",
        "\n",
        "df_SAFI.boxplot(column = 'buildings_in_compound', by = 'village', figsize = (5,5))\n",
        "\n",
        "plt.suptitle(None) #removes automatic title\n",
        "plt.title('Buildings in compounds per village')\n",
        "plt.ylabel('Number of buildings')\n",
        "plt.xlabel(None)\n",
        "plt.grid(None)"
      ]
    },
    {
      "cell_type": "code",
      "execution_count": null,
      "metadata": {
        "id": "5b3ca66e"
      },
      "outputs": [],
      "source": [
        "# Creating boxplot, customizing it with matplotlib, and saving it to a file!\n",
        "\n",
        "df_SAFI.boxplot(column = 'buildings_in_compound', by = 'village')\n",
        "\n",
        "plt.suptitle(None)\n",
        "plt.title('Buildings in compounds per village')\n",
        "plt.ylabel('Number of buildings')\n",
        "plt.xlabel(None)\n",
        "plt.grid(None)\n",
        "\n",
        "#Saving graph as a pdf or png file\n",
        "plt.savefig('safi_boxplot_buildings.pdf')   # save as pdf file\n",
        "plt.savefig('safi_boxplot_buildings.png', dpi = 150)  # save as png file, some extra arguments are provided"
      ]
    },
    {
      "cell_type": "code",
      "source": [
        "# Create a scatterplot, color code it based on altitude\n",
        "\n",
        "df_SAFI.plot.scatter(x='gps:Latitude', y='gps:Longitude', c='gps:Altitude', figsize=[4,4])"
      ],
      "metadata": {
        "id": "xyxxb93PGfCB"
      },
      "execution_count": null,
      "outputs": []
    },
    {
      "cell_type": "code",
      "source": [
        "# Create a scatterplot, color code it based on altitude, and set the colors as a built-in color map\n",
        "\n",
        "df_SAFI.plot.scatter(x='gps:Latitude', y='gps:Longitude', c='gps:Altitude', cmap=\"viridis\", figsize=[4,4])\n",
        "\n"
      ],
      "metadata": {
        "id": "9J6ji9qHHMf7"
      },
      "execution_count": null,
      "outputs": []
    },
    {
      "cell_type": "code",
      "source": [
        "# Create a scatterplot, color code it based on altitude, and set the colors as a custom color map\n",
        "\n",
        "from matplotlib.colors import ListedColormap\n",
        "\n",
        "colors = [\"blue\", \"green\", \"orange\", 'yellow']\n",
        "\n",
        "custom_colors = ListedColormap(colors)\n",
        "\n",
        "df_SAFI.plot.scatter(x='gps:Latitude', y='gps:Longitude', c='gps:Altitude', cmap=custom_colors, figsize=[4,4])"
      ],
      "metadata": {
        "id": "8andYlMcGez9"
      },
      "execution_count": null,
      "outputs": []
    },
    {
      "cell_type": "markdown",
      "metadata": {
        "id": "b9816a79"
      },
      "source": [
        "## Exercise Two\n",
        "\n",
        "Create a bar graph that visualizes the average number of rooms in each farm per wall type in SAFI.csv, and set the colors for the bars as pink, red, orange and green. (Bonus-how can you make the cement bar green?)"
      ]
    },
    {
      "cell_type": "code",
      "source": [
        "# Solution: bar graph that visualizes the average number of rooms in each farm per wall type in SAFI.csv, and set the colors for the bars as pink, red, orange and green.\n",
        "\n",
        "colors = [\"pink\", \"green\", \"red\", \"orange\"]\n",
        "\n",
        "rooms_mean = df_SAFI.groupby('respondent_wall_type')['rooms'].mean()\n",
        "\n",
        "rooms_mean.plot.bar(color=colors)"
      ],
      "metadata": {
        "id": "j62PSnelIE9a"
      },
      "execution_count": null,
      "outputs": []
    },
    {
      "cell_type": "code",
      "source": [
        "# Alternative solution to the above, but ensuring that the cement bar will be green, regardless of list order\n",
        "\n",
        "colors_list = [\"pink\", \"red\", \"orange\"]\n",
        "\n",
        "colors = []\n",
        "i = 0\n",
        "for wall in rooms_mean.index:\n",
        "    if wall == 'cement':\n",
        "        colors.append('green')\n",
        "    else:\n",
        "        colors.append(colors_list[i])\n",
        "        i += 1\n",
        "\n",
        "rooms_mean.plot.bar(color=colors)\n",
        "\n"
      ],
      "metadata": {
        "id": "6ffEo3avJIN_"
      },
      "execution_count": null,
      "outputs": []
    },
    {
      "cell_type": "code",
      "source": [
        "# Yet another alternative using itertools!\n",
        "\n",
        "from itertools import cycle\n",
        "\n",
        "other_colors = cycle([\"pink\", \"red\", \"orange\"])\n",
        "colors = ['green' if wall == 'cement' else next(other_colors) for wall in rooms_mean.index]\n",
        "\n",
        "rooms_mean.plot.bar(color=colors)\n"
      ],
      "metadata": {
        "id": "3qRSjfgyJ9Lq"
      },
      "execution_count": null,
      "outputs": []
    }
  ]
}